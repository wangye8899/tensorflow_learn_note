{
 "cells": [
  {
   "cell_type": "code",
   "execution_count": 1,
   "metadata": {},
   "outputs": [],
   "source": [
    "import tensorflow as tf\n",
    "from tensorflow.python.framework import ops\n",
    "ops.reset_default_graph()"
   ]
  },
  {
   "cell_type": "markdown",
   "metadata": {},
   "source": [
    "# 建立Session，处理tensorflow的graph"
   ]
  },
  {
   "cell_type": "code",
   "execution_count": 4,
   "metadata": {},
   "outputs": [],
   "source": [
    "sess = tf.Session()"
   ]
  },
  {
   "cell_type": "markdown",
   "metadata": {},
   "source": [
    "# 创建Tensor"
   ]
  },
  {
   "cell_type": "code",
   "execution_count": 6,
   "metadata": {},
   "outputs": [
    {
     "data": {
      "text/plain": [
       "array([[0., 0., 0., 0., 0., 0., 0., 0., 0., 0., 0., 0., 0., 0., 0., 0.,\n",
       "        0., 0., 0., 0.]], dtype=float32)"
      ]
     },
     "execution_count": 6,
     "metadata": {},
     "output_type": "execute_result"
    }
   ],
   "source": [
    "my_tensor = tf.zeros([1,20])\n",
    "sess.run(my_tensor)"
   ]
  },
  {
   "cell_type": "markdown",
   "metadata": {},
   "source": [
    "# 使用Variable声明的变量需要sess中初始化，才可以使用"
   ]
  },
  {
   "cell_type": "code",
   "execution_count": 10,
   "metadata": {},
   "outputs": [
    {
     "name": "stdout",
     "output_type": "stream",
     "text": [
      "[[0. 0. 0.]\n",
      " [0. 0. 0.]]\n",
      "[[0. 0.]\n",
      " [0. 0.]\n",
      " [0. 0.]]\n"
     ]
    }
   ],
   "source": [
    "my_tensor = tf.Variable(tf.zeros([2,3]))\n",
    "one_tensor = tf.Variable(tf.zeros([3,2]))\n",
    "sess.run(my_tensor.initializer)\n",
    "sess.run(one_tensor.initializer)\n",
    "print(sess.run(my_tensor))\n",
    "print(sess.run(one_tensor))"
   ]
  },
  {
   "cell_type": "code",
   "execution_count": 11,
   "metadata": {},
   "outputs": [],
   "source": [
    "fill_var = tf.Variable(tf.fill([2,3],-1))\n",
    "sess.run(fill_var.initializer)"
   ]
  },
  {
   "cell_type": "code",
   "execution_count": 12,
   "metadata": {},
   "outputs": [
    {
     "name": "stdout",
     "output_type": "stream",
     "text": [
      "[[-1 -1 -1]\n",
      " [-1 -1 -1]]\n"
     ]
    }
   ],
   "source": [
    "print(sess.run(fill_var))"
   ]
  },
  {
   "cell_type": "markdown",
   "metadata": {},
   "source": [
    "# 生成list的形式的变量，赋值常量\n"
   ]
  },
  {
   "cell_type": "code",
   "execution_count": 15,
   "metadata": {},
   "outputs": [],
   "source": [
    "const_var = tf.Variable(tf.constant([1,2,3,4]))\n",
    "const_var_fill = tf.Variable(tf.constant(-1,shape=[2,3]))\n"
   ]
  },
  {
   "cell_type": "code",
   "execution_count": 16,
   "metadata": {},
   "outputs": [
    {
     "name": "stdout",
     "output_type": "stream",
     "text": [
      "[1 2 3 4]\n",
      "[[-1 -1 -1]\n",
      " [-1 -1 -1]]\n"
     ]
    }
   ],
   "source": [
    "# 初始化\n",
    "sess.run(const_var.initializer)\n",
    "sess.run(const_var_fill.initializer)\n",
    "print(sess.run(const_var))\n",
    "print(sess.run(const_var_fill))"
   ]
  },
  {
   "cell_type": "markdown",
   "metadata": {},
   "source": [
    "# 创建Tensor，使用序列或者范围函数\n"
   ]
  },
  {
   "cell_type": "code",
   "execution_count": 20,
   "metadata": {},
   "outputs": [
    {
     "name": "stdout",
     "output_type": "stream",
     "text": [
      "[0.  0.5 1. ]\n",
      "[ 6  9 12]\n"
     ]
    }
   ],
   "source": [
    "line_var = tf.Variable(tf.linspace(start=0.,stop=1.,num=3))\n",
    "sequence_var = tf.Variable(tf.range(start=6,limit=15,delta=3))\n",
    "sess.run(line_var.initializer)\n",
    "sess.run(sequence_var.initializer)\n",
    "print(sess.run(line_var))\n",
    "print(sess.run(sequence_var))"
   ]
  },
  {
   "cell_type": "code",
   "execution_count": 22,
   "metadata": {},
   "outputs": [
    {
     "name": "stdout",
     "output_type": "stream",
     "text": [
      "[[ 1.1397682   1.0403638   0.1624016 ]\n",
      " [-0.27518523 -2.5282724   0.8822056 ]]\n",
      "[[2.4623146  2.4991326  1.972332  ]\n",
      " [2.197977   0.55549765 1.7756772 ]]\n"
     ]
    }
   ],
   "source": [
    "# 随机数初始化\n",
    "random_var = tf.random_normal([2,3],mean=0.,stddev=1.)\n",
    "runif_var = tf.random_uniform([2,3],minval=0,maxval=4)\n",
    "print(sess.run(random_var))\n",
    "print(sess.run(runif_var))"
   ]
  },
  {
   "cell_type": "code",
   "execution_count": null,
   "metadata": {},
   "outputs": [],
   "source": []
  }
 ],
 "metadata": {
  "kernelspec": {
   "display_name": "Python [conda env:root] *",
   "language": "python",
   "name": "conda-root-py"
  },
  "language_info": {
   "codemirror_mode": {
    "name": "ipython",
    "version": 3
   },
   "file_extension": ".py",
   "mimetype": "text/x-python",
   "name": "python",
   "nbconvert_exporter": "python",
   "pygments_lexer": "ipython3",
   "version": "3.6.8"
  }
 },
 "nbformat": 4,
 "nbformat_minor": 2
}
